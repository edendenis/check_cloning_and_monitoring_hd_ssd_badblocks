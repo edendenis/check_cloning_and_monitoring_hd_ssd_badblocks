{
 "cells": [
  {
   "cell_type": "markdown",
   "metadata": {},
   "source": [
    "# Como verificar bad blocks no HD/SSD com o `Badblocks`, clonar com o `Data Duplicator` e monitorar com o `Smartmontools` no `Linux Ubuntu`\n",
    "\n",
    "## Resumo\n",
    "\n",
    "Neste documento estão contidos os principais comandos e configurações para verificar bad blocks no HD/SSD com o `Badblocks`, clonar com o `Data Duplicator` e monitorar com o `Smartmontools` no `Linux Ubuntu`.\n",
    "\n",
    "## Abstract\n",
    "\n",
    "_This document contains the main commands and configurations for checking bad blocks on the HD/SSD with `Badblocks`, cloning with `Data Duplicator` and monitoring with `Smartmontools` in `Linux Ubuntu`._\n"
   ]
  },
  {
   "cell_type": "markdown",
   "metadata": {},
   "source": [
    "## 1. Como verificar o HD/SSD com o `Badblocks` no `Linux Ubuntu` [1]\n",
    "\n",
    "Para configurar o `Hard Disk Manager`, você pode seguir estas etapas:\n",
    "\n",
    "1. Abra o `Terminal Emulator`. Você pode fazer isso pressionando: `Ctrl + Alt + T`\n"
   ]
  },
  {
   "cell_type": "markdown",
   "metadata": {
    "vscode": {
     "languageId": "plaintext"
    }
   },
   "source": [
    "2. Certifique-se de que seu sistema esteja limpo e atualizado.\n",
    "\n",
    "    2.1 Limpar o `cache` do gerenciador de pacotes `apt`. Especificamente, ele remove todos os arquivos de pacotes (`.deb`) baixados pelo `apt` e armazenados em `/var/cache/apt/archives/`. Digite o seguinte comando: `sudo apt clean` \n",
    "    \n",
    "    2.2 Remover pacotes `.deb` antigos ou duplicados do cache local. É útil para liberar espaço, pois remove apenas os pacotes que não podem mais ser baixados (ou seja, versões antigas de pacotes que foram atualizados). Digite o seguinte comando: `sudo apt autoclean`\n",
    "\n",
    "    2.3 Remover pacotes que foram automaticamente instalados para satisfazer as dependências de outros pacotes e que não são mais necessários. Digite o seguinte comando: `sudo apt autoremove -y`\n",
    "\n",
    "    2.4 Buscar as atualizações disponíveis para os pacotes que estão instalados em seu sistema. Digite o seguinte comando e pressione `Enter`: `sudo apt update`\n",
    "\n",
    "    2.5 **Corrigir pacotes quebrados**: Isso atualizará a lista de pacotes disponíveis e tentará corrigir pacotes quebrados ou com dependências ausentes: `sudo apt --fix-broken install`\n",
    "\n",
    "    2.6 Limpar o `cache` do gerenciador de pacotes `apt`. Especificamente, ele remove todos os arquivos de pacotes (`.deb`) baixados pelo `apt` e armazenados em `/var/cache/apt/archives/`. Digite o seguinte comando: `sudo apt clean` \n",
    "    \n",
    "    2.7 Para ver a lista de pacotes a serem atualizados, digite o seguinte comando e pressione `Enter`:  `sudo apt list --upgradable`\n",
    "\n",
    "    2.8 Realmente atualizar os pacotes instalados para as suas versões mais recentes, com base na última vez que você executou `sudo apt update`. Digite o seguinte comando e pressione `Enter`: `sudo apt full-upgrade -y`\n",
    "    \n"
   ]
  },
  {
   "cell_type": "markdown",
   "metadata": {
    "vscode": {
     "languageId": "plaintext"
    }
   },
   "source": [
    "3. Para consultar o nome do HD e SSD no `Linux Ubuntu`, você pode usar os comandos `lsblk` e `fdisk`.\n",
    "\n",
    "3.1 **Usando `lsblk`:** O comando lsblk lista todos os dispositivos de bloco (como discos e partições) no sistema. Execute o seguinte comando no terminal: `lsblk -o NAME,SIZE,TYPE,MODEL`\n",
    "\n",
    "Explicação:\n",
    "\n",
    "- **`NAME`:** Mostra o nome do dispositivo.\n",
    "\n",
    "- **`SIZE`:** Mostra o tamanho do dispositivo.\n",
    "\n",
    "- **`TYPE`:** Mostra o tipo do dispositivo (como 'disk' para discos ou 'part' para partições).\n",
    "\n",
    "- **`MODEL`:** Mostra o modelo do dispositivo, o que pode ajudar a identificar o HD ou SSD.\n",
    "\n",
    "3.2 **Usando `fdisk`:** O comando fdisk também pode ser usado para listar os discos no sistema. Execute o seguinte comando no terminal: `sudo fdisk -l`\n",
    "\n",
    "- Este comando irá listar todos os discos e suas respectivas partições. Procure por entradas como /dev/sda ou /dev/nvme0n1 para identificar seus discos.\n",
    "\n",
    "Ao usar esses comandos, você poderá identificar seus dispositivos pelo nome, tamanho e, no caso do `lsblk`, pelo modelo do dispositivo. Isso deve ajudá-lo a distinguir entre HD e SSD. Se o seu SSD for NVMe, o nome geralmente começará com nvme. Por outro lado, discos SATA (tanto HDs quanto SSDs) geralmente começam com sd seguido de uma letra (como sda, sdb, etc.).\n",
    "\n",
    "4. Para identificar bad blocks (setores defeituosos) em discos no Linux, uma ferramenta comum e robusta é o `badblocks`. Esta ferramenta faz parte do pacote `e2fsprogs`, que geralmente já está instalado na maioria das distribuições Linux, incluindo o Ubuntu.\n",
    "\n",
    "4.1 Veja como usar o `badblocks`:\n",
    "\n",
    "4.1.1 Executando `badblocks`:\n",
    "\n",
    "a) Para verificar bad blocks em um dispositivo, execute o seguinte comando: `sudo badblocks -v /dev/sdX`\n",
    "\n",
    "No comando acima, substitua `/dev/sdX` pelo nome do dispositivo que você deseja verificar (por exemplo, `/dev/sdb`).\n",
    "\n",
    "Explicação:\n",
    "\n",
    "- **v:** Modo verboso. Mostra o progresso da verificação.\n",
    "Executando badblocks com escrita e leitura:\n",
    "\n",
    "b) Se você também desejar realizar um teste de escrita (o que destruirá todos os dados no disco), pode usar: `sudo badblocks -wv /dev/sdb`\n",
    "\n",
    "**Atenção:** A opção `-w` é destrutiva e irá apagar todos os dados no disco. Certifique-se de ter feito backup de todos os dados importantes antes de usar esta opção.\n",
    "\n",
    "Outras opções:\n",
    "\n",
    "O `badblocks` tem muitas outras opções. Você pode visualizá-las consultando o manual com o comando: `man badblocks`"
   ]
  },
  {
   "cell_type": "markdown",
   "metadata": {},
   "source": [
    "## 2. Como clonar o HD/SSD com o `Data Duplicator` no `Linux Ubuntu` [1]"
   ]
  },
  {
   "cell_type": "markdown",
   "metadata": {},
   "source": [
    "No `Linux Ubuntu`, uma ferramenta popular e confiável para clonar um HD para SSD é o `dd`.\n",
    "No entanto, é crucial ter cuidado ao usar esta ferramenta porque um uso incorreto pode resultar em perda de dados.\n",
    "\n",
    "Aqui está um exemplo de como você pode clonar um HD para SSD usando o `dd`:\n",
    "\n",
    "1. Identifique o nome do dispositivo do seu HD e SSD com o comando `lsblk` ou `fdisk -l`.\n",
    "\n",
    "2. Supondo que o seu HD seja `/dev/sda` e o SSD seja `/dev/sdb`, você pode clonar o HD para o SSD com o seguinte comando: `sudo dd if=/dev/sda of=/dev/sdb bs=64K conv=noerror,sync status=progress`\n",
    "\n",
    "Explicação do comando:\n",
    "\n",
    "- **if=/dev/sda:** especifica o disco de origem.\n",
    "\n",
    "- **of=/dev/sdb:** especifica o disco de destino.\n",
    "\n",
    "- **bs=64K:** define o tamanho do bloco para 64 kilobytes. Isso pode melhorar a velocidade de clonagem.\n",
    "\n",
    "- **conv=noerror,sync:** permite que o `dd` continue copiando mesmo após encontrar erros e sincroniza os blocos de entrada e saída.\n",
    "\n",
    "- **status=progress:** mostra o progresso da clonagem.\n",
    "\n",
    "**Nota:** Antes de executar este comando, tenha certeza de que os nomes dos dispositivos estão corretos. Clonar o dispositivo errado pode resultar em perda de dados.\n",
    "\n",
    "Outras opções para clonagem incluem ferramentas com interfaces gráficas como o \"Gnome Disks\" ou softwares mais avançados como o \"Clonezilla\". Escolha a ferramenta que você achar mais conveniente para o seu caso."
   ]
  },
  {
   "cell_type": "markdown",
   "metadata": {},
   "source": [
    "## 3. Como monitorar o HD/SSD com o `Smartmontools` no `Linux Ubuntu` [1]\n",
    "\n",
    "Além do `badblocks`, é uma boa prática também usar a ferramenta `smartmontools` para monitorar a saúde do disco, pois ela pode fornecer informações detalhadas sobre a condição do seu disco rígido ou SSD, incluindo setores re-alocados, contagens de erros e muito mais.\n",
    "\n",
    "1. Para instalar o smartmontools no Ubuntu, use: `sudo apt-get install smartmontools`\n",
    "\n",
    "2. E, para verificar a saúde do disco: `sudo smartctl -a /dev/sdX`\n",
    "\n",
    "Substitua `/dev/sdX` pelo nome do seu dispositivo.\n",
    "\n",
    "Estas ferramentas, em conjunto, podem fornecer uma visão abrangente sobre a saúde e a condição do seu disco."
   ]
  },
  {
   "cell_type": "markdown",
   "metadata": {
    "vscode": {
     "languageId": "plaintext"
    }
   },
   "source": [
    "## Referências\n",
    "\n",
    "[1] OPENAI. ***Clonagem hd para ssd.*** Disponível em: <https://chat.openai.com/c/2d8432ec-5047-408f-8a8e-8a7d110d72e2> (texto adaptado). Acessado em: 12/10/2023 13:31.\n",
    "\n",
    "[2] OPENAI. ***Vs code: editor popular.*** Disponível em: <https://chat.openai.com/c/b640a25d-f8e3-4922-8a3b-ed74a2657e42> (texto adaptado). Acessado em: 16/04/2024 13:48.\n"
   ]
  }
 ],
 "metadata": {
  "kernelspec": {
   "display_name": "Python 3",
   "language": "python",
   "name": "python3"
  },
  "language_info": {
   "codemirror_mode": {
    "name": "ipython",
    "version": 3
   },
   "file_extension": ".py",
   "mimetype": "text/x-python",
   "name": "python",
   "nbconvert_exporter": "python",
   "pygments_lexer": "ipython3",
   "version": "3.8.10"
  },
  "orig_nbformat": 4
 },
 "nbformat": 4,
 "nbformat_minor": 2
}
